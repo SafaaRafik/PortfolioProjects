{
 "cells": [
  {
   "cell_type": "markdown",
   "id": "c4613f6a-0883-4e34-8667-65652c0dd2a2",
   "metadata": {},
   "source": [
    "# Automatic File Sorter in File Explorer"
   ]
  },
  {
   "cell_type": "code",
   "execution_count": 36,
   "id": "f2cde32e-4e1a-40bd-816f-aeb30af59162",
   "metadata": {},
   "outputs": [],
   "source": [
    "import os, shutil"
   ]
  },
  {
   "cell_type": "code",
   "execution_count": 38,
   "id": "42ed5458-d5b4-4271-acbc-00db4693c691",
   "metadata": {},
   "outputs": [],
   "source": [
    "#Feel free to test this with your local path\n",
    "path = r\"C:/Users/Safaa/Documents/Python Automated File Sorter/\""
   ]
  },
  {
   "cell_type": "code",
   "execution_count": 40,
   "id": "c6b37fe1-320d-44aa-895b-f626bbfb7adb",
   "metadata": {},
   "outputs": [
    {
     "name": "stdout",
     "output_type": "stream",
     "text": [
      "['ba_reviews.csv', 'BritishAirways.jpg', 'Countries.csv', \"Etude sur l'insertion profressionnelle des Bac +5 en lettres et sciences humaines.pdf\", 'Nashville.jpg', 'Serendipity.txt', 'Utopia.txt']\n"
     ]
    }
   ],
   "source": [
    "# Lists only files\n",
    "file_names = os.listdir(path)\n",
    "\n",
    "print(file_names)"
   ]
  },
  {
   "cell_type": "code",
   "execution_count": 42,
   "id": "5aed32d9-f7eb-4c42-8d75-e7e736927355",
   "metadata": {},
   "outputs": [
    {
     "name": "stdout",
     "output_type": "stream",
     "text": [
      "C:/Users/Safaa/Documents/Python Automated File Sorter/csv files\n",
      "C:/Users/Safaa/Documents/Python Automated File Sorter/image files\n",
      "C:/Users/Safaa/Documents/Python Automated File Sorter/text files\n",
      "There are still files in the path that haven't been moved:\n",
      "[\"Etude sur l'insertion profressionnelle des Bac +5 en lettres et sciences humaines.pdf\"]\n"
     ]
    }
   ],
   "source": [
    "folder_names= [\"csv files\", \"image files\", \"text files\"]\n",
    "\n",
    "for loop in range(0,3):\n",
    "    if not os.path.exists(path + folder_names[loop]):\n",
    "        print(path + folder_names[loop])\n",
    "        os.makedirs(path+ folder_names[loop])\n",
    "\n",
    "for file in file_names:\n",
    "    if \".csv\" in file and not os.path.exists(path + \"csv files/\" + file):\n",
    "        shutil.move(path + file, path + \"csv files/\" + file)\n",
    "    elif \".jpg\" in file and not os.path.exists(path + \"image files/\" + file):\n",
    "        shutil.move(path + file, path + \"image files/\" + file)\n",
    "    elif \".txt\" in file and not os.path.exists(path + \"text files/\" + file):\n",
    "        shutil.move(path + file, path + \"text files/\" + file)\n",
    "\n",
    "remaining_files = [f for f in os.listdir(path) if os.path.isfile(os.path.join(path, f))]\n",
    "\n",
    "if remaining_files:\n",
    "    print(\"There are still files in the path that haven't been moved:\")\n",
    "    print(remaining_files)\n",
    "else:\n",
    "    print(\"All files have been successfully sorted!\")\n"
   ]
  },
  {
   "cell_type": "code",
   "execution_count": null,
   "id": "1ca4dce4-6f5f-4647-a188-ce1195944431",
   "metadata": {},
   "outputs": [],
   "source": []
  }
 ],
 "metadata": {
  "kernelspec": {
   "display_name": "Python [conda env:base] *",
   "language": "python",
   "name": "conda-base-py"
  },
  "language_info": {
   "codemirror_mode": {
    "name": "ipython",
    "version": 3
   },
   "file_extension": ".py",
   "mimetype": "text/x-python",
   "name": "python",
   "nbconvert_exporter": "python",
   "pygments_lexer": "ipython3",
   "version": "3.12.7"
  }
 },
 "nbformat": 4,
 "nbformat_minor": 5
}
